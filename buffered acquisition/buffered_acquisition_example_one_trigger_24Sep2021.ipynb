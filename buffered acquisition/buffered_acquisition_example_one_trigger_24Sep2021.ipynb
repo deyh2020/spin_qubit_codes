{
    "cells": [
        {
            "cell_type": "code",
            "execution_count": 1,
            "metadata": {},
            "outputs": [],
            "source": [
                "# -*- coding: utf-8 -*-\n",
                "\"\"\"\n",
                "Created on August 8 2021\n",
                "\n",
                "@author: FB\n",
                "\"\"\"\n",
                "import matplotlib.pyplot as plt\n",
                "import numpy as np\n",
                "\n",
                "from time import sleep, monotonic\n",
                "\n",
                "import qcodes as qc\n",
                "from qcodes import Station, load_or_create_experiment, initialise_database, Measurement, load_by_run_spec, load_by_id\n",
                "from qcodes.dataset.plotting import plot_dataset, plot_by_id\n",
                "from qcodes.utils.dataset.doNd import do0d,do1d, do2d\n"
            ]
        },
        {
            "cell_type": "code",
            "execution_count": 2,
            "metadata": {},
            "outputs": [
                {
                    "name": "stdout",
                    "output_type": "stream",
                    "text": [
                        "Logging hadn't been started.\n",
                        "Activating auto-logging. Current session state plus future input saved.\n",
                        "Filename       : C:\\Users\\T4ACQ\\.qcodes\\logs\\command_history.log\n",
                        "Mode           : append\n",
                        "Output logging : True\n",
                        "Raw input log  : False\n",
                        "Timestamping   : True\n",
                        "State          : active\n",
                        "Qcodes Logfile : C:\\Users\\T4ACQ\\.qcodes\\logs\\210924-11852-qcodes.log\n"
                    ]
                }
            ],
            "source": [
                "qc.logger.start_all_logging()\n",
                "station = qc.Station()\n",
                "\n",
                "qc.initialise_or_create_database_at('F:\\QCoDeSLocal\\SpinQubit\\database\\IMEC_AL809789_D18_D3SD4_T4.db') \n",
                "exp = load_or_create_experiment(\n",
                "    experiment_name= 'T4',\n",
                "    sample_name=\"QBB16_4_6\"\n",
                ")"
            ]
        },
        {
            "cell_type": "code",
            "execution_count": 106,
            "metadata": {},
            "outputs": [],
            "source": [
                "STATION = qc.Station(config_file='Config_24Sep2021_FB.yaml',use_monitor='True')"
            ]
        },
        {
            "cell_type": "code",
            "execution_count": 107,
            "metadata": {},
            "outputs": [],
            "source": [
                "qdac=STATION.load_instrument('qdac_A')"
            ]
        },
        {
            "cell_type": "code",
            "execution_count": 6,
            "metadata": {},
            "outputs": [
                {
                    "name": "stdout",
                    "output_type": "stream",
                    "text": [
                        "Connected to: Keysight Technologies 34465A (serial:MY54501434, firmware:A.02.09-02.37-02.09-00.49-02-01) in 0.27s\n"
                    ]
                }
            ],
            "source": [
                "dmm = STATION.load_instrument('keysight_A')"
            ]
        },
        {
            "cell_type": "code",
            "execution_count": 7,
            "metadata": {},
            "outputs": [],
            "source": [
                "def Ithaco_get():   \n",
                "    return dmm.volt()*1e-7*(-1)\n",
                "\n",
                "ithaco = qc.Parameter(name='Ithaco',label='drain current',unit='A', get_cmd=Ithaco_get)"
            ]
        },
        {
            "cell_type": "markdown",
            "metadata": {},
            "source": [
                "# Buffered acquistion"
            ]
        },
        {
            "cell_type": "code",
            "execution_count": 18,
            "metadata": {},
            "outputs": [
                {
                    "name": "stdout",
                    "output_type": "stream",
                    "text": [
                        "Connected to: Keysight Technologies 34465A (serial:MY54501309, firmware:A.02.14-02.40-02.14-00.49-02-01) in 1.17s\n"
                    ]
                }
            ],
            "source": [
                "dmm_lockin = STATION.load_instrument('keysight_A_2')"
            ]
        },
        {
            "cell_type": "code",
            "execution_count": 26,
            "metadata": {},
            "outputs": [],
            "source": [
                "import re\n",
                "# do2d_buffered takes as channel not (e.g.) qdac.ch01.v but qdac.ch01, as I need later (in ramp_voltages_2d_buffered) the channel number (obtained by int(re.findall(\"\\d+\", <string name>)[0]))\n",
                "def do2d_buffered(slow_chan, slow_vstart, slow_vend, slow_steps , fast_chan, fast_vstart, fast_vend, fast_steps ,step_length, dmm):    \n",
                "    meas = Measurement()\n",
                "    v1s = np.linspace(slow_vstart, slow_vend, slow_steps)\n",
                "    v2s = np.linspace(fast_vstart, fast_vend, fast_steps)\n",
                "    meas.register_parameter(slow_chan.v)\n",
                "    meas.register_parameter(fast_chan.v)\n",
                "    meas.register_custom_parameter('buffer', 'Buffer', 'V', setpoints=(slow_chan.v,fast_chan.v,))\n",
                "    with meas.run() as datasaver: \n",
                "        dmm.init_measurement()   \n",
                "        meas_time = qdac.ramp_voltages_2d( slow_chans=[int(re.findall(\"\\d+\", slow_chan.short_name)[0])], slow_vstart=[slow_vstart], slow_vend=[slow_vend],\n",
                "                                  fast_chans=[int(re.findall(\"\\d+\", fast_chan.short_name)[0])], fast_vstart=[fast_vstart], fast_vend=[fast_vend],\n",
                "                                  step_length=step_length,slow_steps = slow_steps, fast_steps = fast_steps)\n",
                "                                               \n",
                "        sleep(meas_time)\n",
                "        data = dmm.fetch()\n",
                "        datasaver.add_result((slow_chan.v, np.repeat(v1s,fast_steps)),\n",
                "                             (fast_chan.v, np.tile(v2s,slow_steps)),\n",
                "                             ('buffer', data))    \n",
                "        dataset2D = datasaver.dataset"
            ]
        },
        {
            "cell_type": "code",
            "execution_count": 27,
            "metadata": {},
            "outputs": [],
            "source": [
                "qdac.ch03.sync(1)\n",
                "qdac.ch03.sync_delay(0)\n",
                "qdac.ch03.sync_duration(0.001)"
            ]
        },
        {
            "cell_type": "code",
            "execution_count": 88,
            "metadata": {},
            "outputs": [],
            "source": [
                "dmm_lockin.sample.source('TIM')"
            ]
        },
        {
            "cell_type": "code",
            "execution_count": 100,
            "metadata": {},
            "outputs": [
                {
                    "name": "stdout",
                    "output_type": "stream",
                    "text": [
                        "Starting experimental run with id: 880. \n"
                    ]
                }
            ],
            "source": [
                "dmm_lockin.device_clear() #necessary after timeout error\n",
                "dmm_lockin.reset() #can be commented\n",
                "slow_steps = 51 #number of pixel along slow axis\n",
                "fast_steps = 51 #number of pixel along fast axis\n",
                "all_gates(2)\n",
                "# qdac.ch03.v(0.4)\n",
                "# qdac.ch05.v(0.4)\n",
                "# sleep(1)\n",
                "#dmm.timeout(5)\n",
                "dmm_lockin.display.text('buffering...') # Displays the text to speed up commands of the dmm\n",
                "dmm_lockin.range(10) #range in volts\n",
                "dmm_lockin.aperture_mode('ON')\n",
                "dmm_lockin.NPLC(0.02) #{0.2, 1, 0.06, 100, 10, 0.02}\n",
                "dmm_lockin.trigger.source('EXT') #before was IMM\n",
                "dmm_lockin.trigger.slope('POS')\n",
                "dmm_lockin.trigger.count(1)\n",
                "dmm_lockin.trigger.delay(0.00)\n",
                "dmm_lockin.sample.source('TIM')\n",
                "\n",
                "#dmm_lockin.trigger.delay(0)\n",
                "\n",
                "dmm_lockin.sample.count(slow_steps*fast_steps)\n",
                "dmm_lockin.sample.timer(0.002)\n",
                "#dmm_lockin.sample.pretrigger_count(0)\n",
                "\n",
                "do2d_buffered(qdac.ch03, 0.400, 0.600, slow_steps, qdac.ch05, 0.400, 0.600, fast_steps,0.002, dmm_lockin)\n",
                "\n",
                "dmm_lockin.display.clear() # Returns display to its normal state\n"
            ]
        }
    ],
    "metadata": {
        "interpreter": {
            "hash": "8243d743d725da7990176cf100beebd206bf3717ce97069ac59734bfe81ebd6f"
        },
        "kernelspec": {
            "display_name": "Python 3.8.10 64-bit ('qcodes': conda)",
            "name": "python3"
        },
        "language_info": {
            "codemirror_mode": {
                "name": "ipython",
                "version": 3
            },
            "file_extension": ".py",
            "mimetype": "text/x-python",
            "name": "python",
            "nbconvert_exporter": "python",
            "pygments_lexer": "ipython3",
            "version": "3.8.10"
        },
        "orig_nbformat": 4
    },
    "nbformat": 4,
    "nbformat_minor": 2
}

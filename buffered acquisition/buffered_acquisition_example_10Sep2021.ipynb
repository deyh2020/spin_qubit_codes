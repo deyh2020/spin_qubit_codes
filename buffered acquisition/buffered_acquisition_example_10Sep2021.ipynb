{
    "cells": [
        {
            "cell_type": "code",
            "execution_count": 1,
            "source": [
                "# -*- coding: utf-8 -*-\r\n",
                "\"\"\"\r\n",
                "Created on August 8 2021\r\n",
                "\r\n",
                "@author: FB\r\n",
                "\"\"\"\r\n",
                "import matplotlib.pyplot as plt\r\n",
                "import numpy as np\r\n",
                "\r\n",
                "from time import sleep, monotonic\r\n",
                "\r\n",
                "import qcodes as qc\r\n",
                "from qcodes import Station, load_or_create_experiment, initialise_database, Measurement, load_by_run_spec, load_by_id\r\n",
                "from qcodes.dataset.plotting import plot_dataset, plot_by_id\r\n",
                "from qcodes.utils.dataset.doNd import do0d,do1d, do2d\r\n"
            ],
            "outputs": [],
            "metadata": {}
        },
        {
            "cell_type": "code",
            "execution_count": 2,
            "source": [
                "qc.logger.start_all_logging()\r\n",
                "station = qc.Station()\r\n",
                "\r\n",
                "qc.initialise_or_create_database_at('F:\\QCoDeSLocal\\SpinQubit\\database\\IMEC_AL809789_D18_D3SD4_T4.db') \r\n",
                "exp = load_or_create_experiment(\r\n",
                "    experiment_name= 'T4',\r\n",
                "    sample_name=\"QBB16_3_6\"\r\n",
                ")"
            ],
            "outputs": [
                {
                    "output_type": "stream",
                    "name": "stdout",
                    "text": [
                        "Logging hadn't been started.\n",
                        "Activating auto-logging. Current session state plus future input saved.\n",
                        "Filename       : C:\\Users\\T4ACQ\\.qcodes\\logs\\command_history.log\n",
                        "Mode           : append\n",
                        "Output logging : True\n",
                        "Raw input log  : False\n",
                        "Timestamping   : True\n",
                        "State          : active\n",
                        "Qcodes Logfile : C:\\Users\\T4ACQ\\.qcodes\\logs\\210915-10124-qcodes.log\n"
                    ]
                }
            ],
            "metadata": {}
        },
        {
            "cell_type": "code",
            "execution_count": 34,
            "source": [
                "STATION = qc.Station(config_file='Config_15Sep2021_FB.yaml',use_monitor='True')"
            ],
            "outputs": [],
            "metadata": {}
        },
        {
            "cell_type": "code",
            "execution_count": 75,
            "source": [
                "qdac=STATION.load_instrument('qdac_A_buffered')"
            ],
            "outputs": [],
            "metadata": {}
        },
        {
            "cell_type": "code",
            "execution_count": 5,
            "source": [
                "dmm = STATION.load_instrument('keysight_A')"
            ],
            "outputs": [
                {
                    "output_type": "stream",
                    "name": "stdout",
                    "text": [
                        "Connected to: Keysight Technologies 34465A (serial:MY54501434, firmware:A.02.09-02.37-02.09-00.49-02-01) in 0.22s\n"
                    ]
                }
            ],
            "metadata": {}
        },
        {
            "cell_type": "markdown",
            "source": [
                "# Buffered acquisition with lock-in SR844\r\n"
            ],
            "metadata": {}
        },
        {
            "cell_type": "code",
            "execution_count": 18,
            "source": [
                "lockin=STATION.load_instrument('lockin_SR844')"
            ],
            "outputs": [
                {
                    "output_type": "stream",
                    "name": "stderr",
                    "text": [
                        "2021-09-15 09:38:34,608 ¦ py.warnings ¦ WARNING ¦ warnings ¦ _showwarnmsg ¦ 109 ¦ c:\\users\\t4acq\\qcodes\\qcodes\\instrument\\base.py:128: QCoDeSDeprecationWarning: Parameter ch1_databuffer on instrument lockin_SR844 does not correctly pass kwargs to its baseclass. A Parameter class must take `**kwargs` and forward them to its baseclass.\n",
                        "  warnings.warn(\n",
                        "\n",
                        "2021-09-15 09:38:34,609 ¦ py.warnings ¦ WARNING ¦ warnings ¦ _showwarnmsg ¦ 109 ¦ c:\\users\\t4acq\\qcodes\\qcodes\\instrument\\base.py:139: QCoDeSDeprecationWarning: Parameter ch1_databuffer did not correctly register itself on instrument lockin_SR844. Please check that `instrument` argument is passed from <class 'qcodes.instrument_drivers.stanford_research.driver_SR844_v0d1.ChannelBuffer'> all the way to `_BaseParameter`. This will be an error in the future.\n",
                        "  warnings.warn(\n",
                        "\n",
                        "2021-09-15 09:38:34,609 ¦ py.warnings ¦ WARNING ¦ warnings ¦ _showwarnmsg ¦ 109 ¦ c:\\users\\t4acq\\qcodes\\qcodes\\instrument\\base.py:128: QCoDeSDeprecationWarning: Parameter ch2_databuffer on instrument lockin_SR844 does not correctly pass kwargs to its baseclass. A Parameter class must take `**kwargs` and forward them to its baseclass.\n",
                        "  warnings.warn(\n",
                        "\n",
                        "2021-09-15 09:38:34,610 ¦ py.warnings ¦ WARNING ¦ warnings ¦ _showwarnmsg ¦ 109 ¦ c:\\users\\t4acq\\qcodes\\qcodes\\instrument\\base.py:139: QCoDeSDeprecationWarning: Parameter ch2_databuffer did not correctly register itself on instrument lockin_SR844. Please check that `instrument` argument is passed from <class 'qcodes.instrument_drivers.stanford_research.driver_SR844_v0d1.ChannelBuffer'> all the way to `_BaseParameter`. This will be an error in the future.\n",
                        "  warnings.warn(\n",
                        "\n"
                    ]
                },
                {
                    "output_type": "stream",
                    "name": "stdout",
                    "text": [
                        "Connected to: Stanford_Research_Systems SR844 (serial:s/n49388, firmware:ver1.006) in 0.21s\n"
                    ]
                }
            ],
            "metadata": {}
        },
        {
            "cell_type": "code",
            "execution_count": 35,
            "source": [
                "dmm_lockin = STATION.load_instrument('keysight_A_2')"
            ],
            "outputs": [
                {
                    "output_type": "stream",
                    "name": "stdout",
                    "text": [
                        "Connected to: Keysight Technologies 34465A (serial:MY54501309, firmware:A.02.14-02.40-02.14-00.49-02-01) in 1.28s\n"
                    ]
                }
            ],
            "metadata": {}
        },
        {
            "cell_type": "code",
            "execution_count": 79,
            "source": [
                "import re\r\n",
                "# do2d_buffered takes as channel not (e.g.) qdac.ch01.v but qdac.ch01, as I need later (in ramp_voltages_2d_buffered) the channel number (obtained by int(re.findall(\"\\d+\", <string name>)[0]))\r\n",
                "def do2d_buffered(slow_chan, slow_vstart, slow_vend, slow_steps , fast_chan, fast_vstart, fast_vend, fast_steps ,trigger_channel,step_length, dmm):    \r\n",
                "    meas = Measurement()\r\n",
                "    v1s = np.linspace(slow_vstart, slow_vend, slow_steps)\r\n",
                "    v2s = np.linspace(fast_vstart, fast_vend, fast_steps)\r\n",
                "    meas.register_parameter(slow_chan.v)\r\n",
                "    meas.register_parameter(fast_chan.v)\r\n",
                "    meas.register_custom_parameter('buffer', 'Buffer', 'V', setpoints=(slow_chan.v,fast_chan.v,))\r\n",
                "    with meas.run() as datasaver: \r\n",
                "        dmm.init_measurement()   \r\n",
                "        meas_time = qdac.ramp_voltages_2d_buffered( slow_chans=[int(re.findall(\"\\d+\", slow_chan.short_name)[0])], slow_vstart=[slow_vstart], slow_vend=[slow_vend],\r\n",
                "                                  fast_chans=[int(re.findall(\"\\d+\", fast_chan.short_name)[0])], fast_vstart=[fast_vstart], fast_vend=[fast_vend], trigger_channel = int(re.findall(\"\\d+\", trigger_channel.short_name)[0]),\r\n",
                "                                  slow_steps = slow_steps, fast_steps = fast_steps,\r\n",
                "                                  step_length=step_length)               \r\n",
                "        sleep(meas_time)\r\n",
                "        data = dmm.fetch()\r\n",
                "        datasaver.add_result((slow_chan.v, np.repeat(v1s,fast_steps)),\r\n",
                "                             (fast_chan.v, np.tile(v2s,slow_steps)),\r\n",
                "                             ('buffer', data))    \r\n",
                "        dataset2D = datasaver.dataset"
            ],
            "outputs": [],
            "metadata": {}
        },
        {
            "cell_type": "code",
            "execution_count": 88,
            "source": [
                "dmm_lockin.device_clear() #necessary after timeout error\r\n",
                "dmm_lockin.reset() #can be commented\r\n",
                "slow_steps = 51 #number of pixel along slow axis\r\n",
                "fast_steps = 51 #number of pixel along fast axis\r\n",
                "all_gates(2)\r\n",
                "# qdac.ch03.v(0.4)\r\n",
                "# qdac.ch05.v(0.4)\r\n",
                "# sleep(1)\r\n",
                "#dmm.timeout(5)\r\n",
                "dmm_lockin.display.text('buffering...') # Displays the text to speed up commands of the dmm\r\n",
                "dmm_lockin.range(10) #range in volts\r\n",
                "dmm_lockin.aperture_mode('ON')\r\n",
                "dmm_lockin.NPLC(0.02) #{0.2, 1, 0.06, 100, 10, 0.02}\r\n",
                "dmm_lockin.trigger.source('EXT') #before was IMM\r\n",
                "dmm_lockin.trigger.slope('POS')\r\n",
                "dmm_lockin.trigger.count(slow_steps*fast_steps)\r\n",
                "dmm_lockin.trigger.delay(0.0)\r\n",
                "\r\n",
                "dmm_lockin.sample.count(1)\r\n",
                "dmm_lockin.sample.timer('MIN')\r\n",
                "#dmm_lockin.sample.pretrigger_count(0)\r\n",
                "\r\n",
                "do2d_buffered(qdac.ch03, 0.300, 0.600, slow_steps, qdac.ch05, 0.300, 0.600, fast_steps ,qdac.ch22,0.002, dmm_lockin)\r\n",
                "\r\n",
                "dmm_lockin.display.clear() # Returns display to its normal state\r\n"
            ],
            "outputs": [
                {
                    "output_type": "stream",
                    "name": "stdout",
                    "text": [
                        "Starting experimental run with id: 762. \n"
                    ]
                }
            ],
            "metadata": {}
        },
        {
            "cell_type": "markdown",
            "source": [
                "# Buffered acquisition with ithaco"
            ],
            "metadata": {}
        },
        {
            "cell_type": "code",
            "execution_count": 103,
            "source": [
                "import re\r\n",
                "# do2d_buffered takes as channel not (e.g.) qdac.ch01.v but qdac.ch01, as I need later (in ramp_voltages_2d_buffered) the channel number (obtained by int(re.findall(\"\\d+\", <string name>)[0]))\r\n",
                "def do2d_buffered(slow_chan, slow_vstart, slow_vend, slow_steps , fast_chan, fast_vstart, fast_vend, fast_steps ,trigger_channel,step_length, dmm):    \r\n",
                "    meas = Measurement()\r\n",
                "    v1s = np.linspace(slow_vstart, slow_vend, slow_steps)\r\n",
                "    v2s = np.linspace(fast_vstart, fast_vend, fast_steps)\r\n",
                "    meas.register_parameter(slow_chan.v)\r\n",
                "    meas.register_parameter(fast_chan.v)\r\n",
                "    meas.register_custom_parameter('buffer', 'Buffer', 'A', setpoints=(slow_chan.v,fast_chan.v,))\r\n",
                "    with meas.run() as datasaver: \r\n",
                "        dmm.init_measurement()   \r\n",
                "        meas_time = qdac.ramp_voltages_2d_buffered( slow_chans=[int(re.findall(\"\\d+\", slow_chan.short_name)[0])], slow_vstart=[slow_vstart], slow_vend=[slow_vend],\r\n",
                "                                  fast_chans=[int(re.findall(\"\\d+\", fast_chan.short_name)[0])], fast_vstart=[fast_vstart], fast_vend=[fast_vend], trigger_channel = int(re.findall(\"\\d+\", trigger_channel.short_name)[0]),\r\n",
                "                                  slow_steps = slow_steps, fast_steps = fast_steps,\r\n",
                "                                  step_length=step_length)               \r\n",
                "        sleep(meas_time)\r\n",
                "        data = dmm.fetch()*1e-8*(-1)\r\n",
                "        datasaver.add_result((slow_chan.v, np.repeat(v1s,fast_steps)),\r\n",
                "                             (fast_chan.v, np.tile(v2s,slow_steps)),\r\n",
                "                             ('buffer', data))    \r\n",
                "        dataset2D = datasaver.dataset"
            ],
            "outputs": [],
            "metadata": {}
        },
        {
            "cell_type": "code",
            "execution_count": 104,
            "source": [
                "dmm.device_clear()  #necessary after timeout error\r\n",
                "dmm.reset() #can be commented\r\n",
                "slow_steps = 51 #number of pixel along slow axis\r\n",
                "fast_steps = 51 #number of pixel along fast axis\r\n",
                "all_gates(2)\r\n",
                "# qdac.ch03.v(0.4)\r\n",
                "# qdac.ch05.v(0.4)\r\n",
                "# sleep(1)\r\n",
                "#dmm.timeout(5)\r\n",
                "dmm.display.text('buffering...') # Displays the text to speed up commands of the dmm\r\n",
                "dmm.range(1) #range in volts\r\n",
                "dmm.aperture_mode('ON')\r\n",
                "dmm.NPLC(0.02) #{0.2, 1, 0.06, 100, 10, 0.02}\r\n",
                "dmm.trigger.source('EXT') #before was IMM\r\n",
                "dmm.trigger.slope('POS')\r\n",
                "dmm.trigger.count(slow_steps*fast_steps)\r\n",
                "dmm.trigger.delay(0.0)\r\n",
                "\r\n",
                "dmm.sample.count(1)\r\n",
                "dmm.sample.timer('MIN')\r\n",
                "#dmm_lockin.sample.pretrigger_count(0)\r\n",
                "\r\n",
                "do2d_buffered(qdac.ch03, 0.400, 0.500, slow_steps, qdac.ch05, 0.400, 0.500, fast_steps ,qdac.ch22,0.002, dmm)\r\n",
                "\r\n",
                "dmm.display.clear() # Returns display to its normal state\r\n"
            ],
            "outputs": [
                {
                    "output_type": "stream",
                    "name": "stdout",
                    "text": [
                        "Starting experimental run with id: 771. \n"
                    ]
                },
                {
                    "output_type": "stream",
                    "name": "stderr",
                    "text": [
                        "2021-09-15 16:29:39,655 ¦ qcodes.dataset.measurements ¦ WARNING ¦ measurements ¦ __exit__ ¦ 635 ¦ An exception occured in measurement with guid: aaaaaaaa-0000-0000-0000-017be9dce7b1;\n",
                        "Traceback:\n",
                        "Traceback (most recent call last):\n",
                        "  File \"C:\\Users\\T4ACQ\\AppData\\Local\\Temp/ipykernel_10124/3373077191.py\", line 18, in do2d_buffered\n",
                        "    datasaver.add_result((slow_chan.v, np.repeat(v1s,fast_steps)),\n",
                        "  File \"c:\\users\\t4acq\\qcodes\\qcodes\\dataset\\measurements.py\", line 214, in add_result\n",
                        "    self._validate_result_shapes(results_dict)\n",
                        "  File \"c:\\users\\t4acq\\qcodes\\qcodes\\dataset\\measurements.py\", line 416, in _validate_result_shapes\n",
                        "    raise ValueError(f'Incompatible shapes. Parameter '\n",
                        "ValueError: Incompatible shapes. Parameter buffer has shape (1,), but its setpoint qdac_A_buffered_chan03_v has shape (2601,).\n",
                        "\n"
                    ]
                },
                {
                    "output_type": "error",
                    "ename": "ValueError",
                    "evalue": "Incompatible shapes. Parameter buffer has shape (1,), but its setpoint qdac_A_buffered_chan03_v has shape (2601,).",
                    "traceback": [
                        "\u001b[1;31m---------------------------------------------------------------------------\u001b[0m",
                        "\u001b[1;31mValueError\u001b[0m                                Traceback (most recent call last)",
                        "\u001b[1;32m~\\AppData\\Local\\Temp/ipykernel_10124/3522812476.py\u001b[0m in \u001b[0;36m<module>\u001b[1;34m\u001b[0m\n\u001b[0;32m     21\u001b[0m \u001b[1;31m#dmm_lockin.sample.pretrigger_count(0)\u001b[0m\u001b[1;33m\u001b[0m\u001b[1;33m\u001b[0m\u001b[1;33m\u001b[0m\u001b[0m\n\u001b[0;32m     22\u001b[0m \u001b[1;33m\u001b[0m\u001b[0m\n\u001b[1;32m---> 23\u001b[1;33m \u001b[0mdo2d_buffered\u001b[0m\u001b[1;33m(\u001b[0m\u001b[0mqdac\u001b[0m\u001b[1;33m.\u001b[0m\u001b[0mch03\u001b[0m\u001b[1;33m,\u001b[0m \u001b[1;36m0.400\u001b[0m\u001b[1;33m,\u001b[0m \u001b[1;36m0.500\u001b[0m\u001b[1;33m,\u001b[0m \u001b[0mslow_steps\u001b[0m\u001b[1;33m,\u001b[0m \u001b[0mqdac\u001b[0m\u001b[1;33m.\u001b[0m\u001b[0mch05\u001b[0m\u001b[1;33m,\u001b[0m \u001b[1;36m0.400\u001b[0m\u001b[1;33m,\u001b[0m \u001b[1;36m0.500\u001b[0m\u001b[1;33m,\u001b[0m \u001b[0mfast_steps\u001b[0m \u001b[1;33m,\u001b[0m\u001b[0mqdac\u001b[0m\u001b[1;33m.\u001b[0m\u001b[0mch22\u001b[0m\u001b[1;33m,\u001b[0m\u001b[1;36m0.002\u001b[0m\u001b[1;33m,\u001b[0m \u001b[0mdmm\u001b[0m\u001b[1;33m)\u001b[0m\u001b[1;33m\u001b[0m\u001b[1;33m\u001b[0m\u001b[0m\n\u001b[0m\u001b[0;32m     24\u001b[0m \u001b[1;33m\u001b[0m\u001b[0m\n\u001b[0;32m     25\u001b[0m \u001b[0mdmm_lockin\u001b[0m\u001b[1;33m.\u001b[0m\u001b[0mdisplay\u001b[0m\u001b[1;33m.\u001b[0m\u001b[0mclear\u001b[0m\u001b[1;33m(\u001b[0m\u001b[1;33m)\u001b[0m \u001b[1;31m# Returns display to its normal state\u001b[0m\u001b[1;33m\u001b[0m\u001b[1;33m\u001b[0m\u001b[0m\n",
                        "\u001b[1;32m~\\AppData\\Local\\Temp/ipykernel_10124/3373077191.py\u001b[0m in \u001b[0;36mdo2d_buffered\u001b[1;34m(slow_chan, slow_vstart, slow_vend, slow_steps, fast_chan, fast_vstart, fast_vend, fast_steps, trigger_channel, step_length, dmm)\u001b[0m\n\u001b[0;32m     16\u001b[0m         \u001b[0msleep\u001b[0m\u001b[1;33m(\u001b[0m\u001b[0mmeas_time\u001b[0m\u001b[1;33m)\u001b[0m\u001b[1;33m\u001b[0m\u001b[1;33m\u001b[0m\u001b[0m\n\u001b[0;32m     17\u001b[0m         \u001b[0mdata\u001b[0m \u001b[1;33m=\u001b[0m \u001b[0mdmm\u001b[0m\u001b[1;33m.\u001b[0m\u001b[0mfetch\u001b[0m\u001b[1;33m(\u001b[0m\u001b[1;33m)\u001b[0m\u001b[1;33m*\u001b[0m\u001b[1;36m1e-8\u001b[0m\u001b[1;33m*\u001b[0m\u001b[1;33m(\u001b[0m\u001b[1;33m-\u001b[0m\u001b[1;36m1\u001b[0m\u001b[1;33m)\u001b[0m\u001b[1;33m\u001b[0m\u001b[1;33m\u001b[0m\u001b[0m\n\u001b[1;32m---> 18\u001b[1;33m         datasaver.add_result((slow_chan.v, np.repeat(v1s,fast_steps)),\n\u001b[0m\u001b[0;32m     19\u001b[0m                              \u001b[1;33m(\u001b[0m\u001b[0mfast_chan\u001b[0m\u001b[1;33m.\u001b[0m\u001b[0mv\u001b[0m\u001b[1;33m,\u001b[0m \u001b[0mnp\u001b[0m\u001b[1;33m.\u001b[0m\u001b[0mtile\u001b[0m\u001b[1;33m(\u001b[0m\u001b[0mv2s\u001b[0m\u001b[1;33m,\u001b[0m\u001b[0mslow_steps\u001b[0m\u001b[1;33m)\u001b[0m\u001b[1;33m)\u001b[0m\u001b[1;33m,\u001b[0m\u001b[1;33m\u001b[0m\u001b[1;33m\u001b[0m\u001b[0m\n\u001b[0;32m     20\u001b[0m                              ('buffer', data))    \n",
                        "\u001b[1;32mc:\\users\\t4acq\\qcodes\\qcodes\\dataset\\measurements.py\u001b[0m in \u001b[0;36madd_result\u001b[1;34m(self, *res_tuple)\u001b[0m\n\u001b[0;32m    212\u001b[0m \u001b[1;33m\u001b[0m\u001b[0m\n\u001b[0;32m    213\u001b[0m         \u001b[0mself\u001b[0m\u001b[1;33m.\u001b[0m\u001b[0m_validate_result_deps\u001b[0m\u001b[1;33m(\u001b[0m\u001b[0mresults_dict\u001b[0m\u001b[1;33m)\u001b[0m\u001b[1;33m\u001b[0m\u001b[1;33m\u001b[0m\u001b[0m\n\u001b[1;32m--> 214\u001b[1;33m         \u001b[0mself\u001b[0m\u001b[1;33m.\u001b[0m\u001b[0m_validate_result_shapes\u001b[0m\u001b[1;33m(\u001b[0m\u001b[0mresults_dict\u001b[0m\u001b[1;33m)\u001b[0m\u001b[1;33m\u001b[0m\u001b[1;33m\u001b[0m\u001b[0m\n\u001b[0m\u001b[0;32m    215\u001b[0m         \u001b[0mself\u001b[0m\u001b[1;33m.\u001b[0m\u001b[0m_validate_result_types\u001b[0m\u001b[1;33m(\u001b[0m\u001b[0mresults_dict\u001b[0m\u001b[1;33m)\u001b[0m\u001b[1;33m\u001b[0m\u001b[1;33m\u001b[0m\u001b[0m\n\u001b[0;32m    216\u001b[0m \u001b[1;33m\u001b[0m\u001b[0m\n",
                        "\u001b[1;32mc:\\users\\t4acq\\qcodes\\qcodes\\dataset\\measurements.py\u001b[0m in \u001b[0;36m_validate_result_shapes\u001b[1;34m(self, results_dict)\u001b[0m\n\u001b[0;32m    414\u001b[0m                 \u001b[0msetpoint_shape\u001b[0m \u001b[1;33m=\u001b[0m \u001b[0mnp\u001b[0m\u001b[1;33m.\u001b[0m\u001b[0mshape\u001b[0m\u001b[1;33m(\u001b[0m\u001b[0mnp\u001b[0m\u001b[1;33m.\u001b[0m\u001b[0marray\u001b[0m\u001b[1;33m(\u001b[0m\u001b[0mresults_dict\u001b[0m\u001b[1;33m[\u001b[0m\u001b[0msetpoint\u001b[0m\u001b[1;33m]\u001b[0m\u001b[1;33m)\u001b[0m\u001b[1;33m)\u001b[0m\u001b[1;33m\u001b[0m\u001b[1;33m\u001b[0m\u001b[0m\n\u001b[0;32m    415\u001b[0m                 \u001b[1;32mif\u001b[0m \u001b[0msetpoint_shape\u001b[0m \u001b[1;32mnot\u001b[0m \u001b[1;32min\u001b[0m \u001b[1;33m[\u001b[0m\u001b[1;33m(\u001b[0m\u001b[1;33m)\u001b[0m\u001b[1;33m,\u001b[0m \u001b[0mrequired_shape\u001b[0m\u001b[1;33m]\u001b[0m\u001b[1;33m:\u001b[0m\u001b[1;33m\u001b[0m\u001b[1;33m\u001b[0m\u001b[0m\n\u001b[1;32m--> 416\u001b[1;33m                     raise ValueError(f'Incompatible shapes. Parameter '\n\u001b[0m\u001b[0;32m    417\u001b[0m                                      \u001b[1;34mf\"{toplevel_param.name} has shape \"\u001b[0m\u001b[1;33m\u001b[0m\u001b[1;33m\u001b[0m\u001b[0m\n\u001b[0;32m    418\u001b[0m                                      \u001b[1;34mf\"{required_shape}, but its setpoint \"\u001b[0m\u001b[1;33m\u001b[0m\u001b[1;33m\u001b[0m\u001b[0m\n",
                        "\u001b[1;31mValueError\u001b[0m: Incompatible shapes. Parameter buffer has shape (1,), but its setpoint qdac_A_buffered_chan03_v has shape (2601,)."
                    ]
                }
            ],
            "metadata": {}
        }
    ],
    "metadata": {
        "orig_nbformat": 4,
        "language_info": {
            "name": "python",
            "version": "3.8.10",
            "mimetype": "text/x-python",
            "codemirror_mode": {
                "name": "ipython",
                "version": 3
            },
            "pygments_lexer": "ipython3",
            "nbconvert_exporter": "python",
            "file_extension": ".py"
        },
        "kernelspec": {
            "name": "python3",
            "display_name": "Python 3.8.10 64-bit ('qcodes': conda)"
        },
        "interpreter": {
            "hash": "8243d743d725da7990176cf100beebd206bf3717ce97069ac59734bfe81ebd6f"
        }
    },
    "nbformat": 4,
    "nbformat_minor": 2
}
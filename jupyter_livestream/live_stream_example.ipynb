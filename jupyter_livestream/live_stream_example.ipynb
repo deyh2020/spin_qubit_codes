{
 "cells": [
  {
   "cell_type": "code",
   "execution_count": 1,
   "id": "helpful-massage",
   "metadata": {},
   "outputs": [
    {
     "output_type": "error",
     "ename": "ModuleNotFoundError",
     "evalue": "No module named 'pulsequantum.livestream'",
     "traceback": [
      "\u001b[1;31m---------------------------------------------------------------------------\u001b[0m",
      "\u001b[1;31mModuleNotFoundError\u001b[0m                       Traceback (most recent call last)",
      "\u001b[1;32m<ipython-input-1-493880f4f003>\u001b[0m in \u001b[0;36m<module>\u001b[1;34m\u001b[0m\n\u001b[0;32m     10\u001b[0m \u001b[1;32mfrom\u001b[0m \u001b[0mqcodes\u001b[0m\u001b[1;33m.\u001b[0m\u001b[0minstrument\u001b[0m\u001b[1;33m.\u001b[0m\u001b[0mparameter\u001b[0m \u001b[1;32mimport\u001b[0m \u001b[0mParameterWithSetpoints\u001b[0m\u001b[1;33m,\u001b[0m \u001b[0mParameter\u001b[0m\u001b[1;33m\u001b[0m\u001b[1;33m\u001b[0m\u001b[0m\n\u001b[0;32m     11\u001b[0m \u001b[1;33m\u001b[0m\u001b[0m\n\u001b[1;32m---> 12\u001b[1;33m \u001b[1;32mfrom\u001b[0m \u001b[0mpulsequantum\u001b[0m\u001b[1;33m.\u001b[0m\u001b[0mlivestream\u001b[0m\u001b[1;33m.\u001b[0m\u001b[0mlivestream\u001b[0m \u001b[1;32mimport\u001b[0m \u001b[0mLiveStream\u001b[0m\u001b[1;33m\u001b[0m\u001b[1;33m\u001b[0m\u001b[0m\n\u001b[0m",
      "\u001b[1;31mModuleNotFoundError\u001b[0m: No module named 'pulsequantum.livestream'"
     ]
    }
   ],
   "source": [
    "import numpy as np\n",
    "import time\n",
    "import pandas as pd\n",
    "import qcodes as qc\n",
    "import random\n",
    "from qcodes.dataset.plotting import plot_dataset\n",
    "from qcodes.utils.validators import Numbers, Arrays\n",
    "from qcodes.instrument.base import Instrument\n",
    "from qcodes.dataset.measurements import Measurement\n",
    "from qcodes.instrument.parameter import ParameterWithSetpoints, Parameter\n",
    "from pulsequantum.livestream.livestream import LiveStream"
   ]
  },
  {
   "cell_type": "code",
   "execution_count": null,
   "id": "worst-shakespeare",
   "metadata": {},
   "outputs": [],
   "source": [
    "class GeneratedSetPoints(Parameter):\n",
    "    \"\"\"\n",
    "    A parameter that generates a setpoint array from start, stop and num points\n",
    "    parameters.\n",
    "    \"\"\"\n",
    "    def __init__(self, startparam, stopparam, numpointsparam, *args, **kwargs):\n",
    "        super().__init__(*args, **kwargs)\n",
    "        self._startparam = startparam\n",
    "        self._stopparam = stopparam\n",
    "        self._numpointsparam = numpointsparam\n",
    "\n",
    "    def get_raw(self):\n",
    "        return np.linspace(self._startparam(), self._stopparam(),\n",
    "                              self._numpointsparam())\n",
    "\n",
    "class DummyArray(ParameterWithSetpoints):\n",
    "\n",
    "    def get_raw(self):\n",
    "        npoints = self.root_instrument.n_points.get_latest()\n",
    "        ls_x = self.root_instrument.freq_axis_x.get()\n",
    "        ls_y = self.root_instrument.freq_axis_y.get()\n",
    "        phase_x = self.root_instrument.phase_x.get()\n",
    "        phase_y = self.root_instrument.phase_y.get()\n",
    "        xx, yy = np.meshgrid(ls_x, ls_y)\n",
    "        output = (np.sin(xx+phase_x+random.random()))*np.cos(yy+phase_y)\n",
    "        return output\n",
    "        \n",
    "\n",
    "\n",
    "class DummyInstrument(Instrument):\n",
    "\n",
    "    def __init__(self, name, **kwargs):\n",
    "\n",
    "        super().__init__(name, **kwargs)\n",
    "\n",
    "\n",
    "        self.add_parameter('f_start',\n",
    "                           initial_value=0,\n",
    "                           unit='Hz',\n",
    "                           label='f start',\n",
    "                           vals=Numbers(0,1e3),\n",
    "                           get_cmd=None,\n",
    "                           set_cmd=None)\n",
    "\n",
    "        self.add_parameter('f_stop',\n",
    "                           initial_value=10,\n",
    "                           unit='Hz',\n",
    "                           label='f stop',\n",
    "                           vals=Numbers(1,1e3),\n",
    "                           get_cmd=None,\n",
    "                           set_cmd=None)\n",
    "        \n",
    "        self.add_parameter('phase_x',\n",
    "                           initial_value=0,\n",
    "                           unit='Hz',\n",
    "                           label='Phase X',\n",
    "                           vals=Numbers(0,1e3),\n",
    "                           get_cmd=None,\n",
    "                           set_cmd=None)\n",
    "        \n",
    "        self.add_parameter('phase_y',\n",
    "                           initial_value=0,\n",
    "                           unit='Hz',\n",
    "                           label='Phase Y',\n",
    "                           vals=Numbers(0,1e3),\n",
    "                           get_cmd=None,\n",
    "                           set_cmd=None) \n",
    "\n",
    "        self.add_parameter('n_points',\n",
    "                           unit='',\n",
    "                           initial_value=100,\n",
    "                           vals=Numbers(1,1e3),\n",
    "                           get_cmd=None,\n",
    "                           set_cmd=None)\n",
    "\n",
    "        self.add_parameter('freq_axis_x',\n",
    "                           unit='Hz',\n",
    "                           label='Freq Axis X',\n",
    "                           parameter_class=GeneratedSetPoints,\n",
    "                           startparam=self.f_start,\n",
    "                           stopparam=self.f_stop,\n",
    "                           numpointsparam=self.n_points,\n",
    "                           vals=Arrays(shape=(self.n_points.get_latest,)))\n",
    "        \n",
    "        self.add_parameter('freq_axis_y',\n",
    "                           unit='Hz',\n",
    "                           label='Freq Axis Y',\n",
    "                           parameter_class=GeneratedSetPoints,\n",
    "                           startparam=self.f_start,\n",
    "                           stopparam=self.f_stop,\n",
    "                           numpointsparam=self.n_points,\n",
    "                           vals=Arrays(shape=(self.n_points.get_latest,)))\n",
    "\n",
    "        self.add_parameter('spectrum',\n",
    "                   unit='dBm',\n",
    "                   setpoints=(self.freq_axis_x,self.freq_axis_x),\n",
    "                   label='Spectrum',\n",
    "                   parameter_class=DummyArray,\n",
    "                   vals=Arrays(shape=(self.n_points.get_latest,self.n_points.get_latest)))\n",
    "\n",
    "        "
   ]
  },
  {
   "cell_type": "code",
   "execution_count": 3,
   "id": "cross-climate",
   "metadata": {},
   "outputs": [],
   "source": [
    "test_instrumment = DummyInstrument('test')"
   ]
  },
  {
   "cell_type": "code",
   "execution_count": 4,
   "id": "backed-compression",
   "metadata": {},
   "outputs": [],
   "source": [
    "pi = np.pi\n",
    "sliders={'phase_x': (test_instrumment.phase_x,0,pi,0.1,0),\n",
    "         'phase_y': (test_instrumment.phase_y,0,pi,0.1,0)}\n"
   ]
  },
  {
   "cell_type": "code",
   "execution_count": 5,
   "id": "hazardous-decimal",
   "metadata": {},
   "outputs": [
    {
     "output_type": "error",
     "ename": "NameError",
     "evalue": "name 'LiveStream' is not defined",
     "traceback": [
      "\u001b[1;31m---------------------------------------------------------------------------\u001b[0m",
      "\u001b[1;31mNameError\u001b[0m                                 Traceback (most recent call last)",
      "\u001b[1;32m<ipython-input-5-884fabdc5198>\u001b[0m in \u001b[0;36m<module>\u001b[1;34m\u001b[0m\n\u001b[1;32m----> 1\u001b[1;33m \u001b[0mtest\u001b[0m \u001b[1;33m=\u001b[0m \u001b[0mLiveStream\u001b[0m\u001b[1;33m(\u001b[0m\u001b[0mdata_func\u001b[0m\u001b[1;33m=\u001b[0m\u001b[0mtest_instrumment\u001b[0m\u001b[1;33m.\u001b[0m\u001b[0mspectrum\u001b[0m\u001b[1;33m,\u001b[0m\u001b[0msliders\u001b[0m\u001b[1;33m=\u001b[0m\u001b[0msliders\u001b[0m\u001b[1;33m)\u001b[0m\u001b[1;33m\u001b[0m\u001b[1;33m\u001b[0m\u001b[0m\n\u001b[0m",
      "\u001b[1;31mNameError\u001b[0m: name 'LiveStream' is not defined"
     ]
    }
   ],
   "source": [
    "test = LiveStream(data_func=test_instrumment.spectrum,sliders=sliders)"
   ]
  },
  {
   "cell_type": "code",
   "execution_count": null,
   "metadata": {},
   "outputs": [],
   "source": []
  }
 ],
 "metadata": {
  "kernelspec": {
   "name": "python388jvsc74a57bd0e22027c5f68ccab11c3b99e0a761d12c67bae191e23efb7bd35b4a150c292bce",
   "display_name": "Python 3.8.8 64-bit ('livestream': conda)"
  },
  "language_info": {
   "codemirror_mode": {
    "name": "ipython",
    "version": 3
   },
   "file_extension": ".py",
   "mimetype": "text/x-python",
   "name": "python",
   "nbconvert_exporter": "python",
   "pygments_lexer": "ipython3",
   "version": "3.8.8"
  }
 },
 "nbformat": 4,
 "nbformat_minor": 5
}
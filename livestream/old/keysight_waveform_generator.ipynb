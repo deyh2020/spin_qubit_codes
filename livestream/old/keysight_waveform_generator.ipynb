{
 "metadata": {
  "language_info": {
   "codemirror_mode": {
    "name": "ipython",
    "version": 3
   },
   "file_extension": ".py",
   "mimetype": "text/x-python",
   "name": "python",
   "nbconvert_exporter": "python",
   "pygments_lexer": "ipython3",
   "version": "3.8.8"
  },
  "orig_nbformat": 2,
  "kernelspec": {
   "name": "python388jvsc74a57bd0e22027c5f68ccab11c3b99e0a761d12c67bae191e23efb7bd35b4a150c292bce",
   "display_name": "Python 3.8.8 64-bit ('livestream': conda)"
  }
 },
 "nbformat": 4,
 "nbformat_minor": 2,
 "cells": [
  {
   "cell_type": "code",
   "execution_count": 1,
   "metadata": {},
   "outputs": [],
   "source": [
    "import qcodes as qc\n",
    "from qcodes.instrument_drivers.Keysight.KeysightAgilent_33XXX import WaveformGenerator_33XXX"
   ]
  },
  {
   "cell_type": "code",
   "execution_count": 4,
   "metadata": {},
   "outputs": [
    {
     "output_type": "stream",
     "name": "stdout",
     "text": [
      "Connected to: Agilent Technologies 33522B (serial:MY57801804, firmware:4.00-1.19-2.00-58-00) in 0.11s\n"
     ]
    }
   ],
   "source": [
    "ks = WaveformGenerator_33XXX('ks', 'TCPIP0::192.168.15.113::inst0::INSTR')"
   ]
  },
  {
   "cell_type": "code",
   "execution_count": null,
   "metadata": {},
   "outputs": [],
   "source": [
    "HP.ch1.function_type('RAMP')\n",
    "HP.ch1.ramp_symmetry(100)\n",
    "HP.ch1.amplitude_unit('VPP')\n",
    "HP.ch1.amplitude(0.1)\n",
    "HP.ch1.offset(5e-2)\n",
    "HP.ch1.frequency(10)\n",
    "HP.sync.source(1)\n",
    "# Start it\n",
    "HP.sync.output('ON')\n",
    "HP.ch1.output('ON')\n",
    "\n",
    "# stop it\n",
    "HP.sync.output('OFF')\n",
    "HP.ch1.output('OFF')"
   ]
  }
 ]
}